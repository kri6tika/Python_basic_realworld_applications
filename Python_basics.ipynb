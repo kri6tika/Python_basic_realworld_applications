{
 "cells": [
  {
   "cell_type": "code",
   "execution_count": 45,
   "metadata": {},
   "outputs": [
    {
     "name": "stdout",
     "output_type": "stream",
     "text": [
      "1\n",
      "Go Right\n"
     ]
    }
   ],
   "source": [
    "#When on random chances you wanna do three things. eg. Go Right, Go left, Sit\n",
    "\n",
    "import random\n",
    "def getanswer(ans):\n",
    "    if(ans==1):\n",
    "     return'Go Right'\n",
    "    elif(ans==0):\n",
    "     return 'Go Left'\n",
    "    else:\n",
    "     return 'Sit'\n",
    "\n",
    "i=random.randint(0,2)\n",
    "print(i)\n",
    "print(getanswer(i))"
   ]
  },
  {
   "cell_type": "code",
   "execution_count": 19,
   "metadata": {},
   "outputs": [
    {
     "name": "stdout",
     "output_type": "stream",
     "text": [
      "['(415)555-4242', '(011)435-5656']\n"
     ]
    }
   ],
   "source": [
    "#Searching and printing out all the matches\n",
    "import re\n",
    "\n",
    "x = re.compile(r'\\(\\d\\d\\d\\)\\d\\d\\d-\\d\\d\\d\\d')\n",
    "mo = x.findall('My phone number is (415)555-4242 and her number is (011)435-5656')\n",
    "print(mo)"
   ]
  },
  {
   "cell_type": "code",
   "execution_count": 46,
   "metadata": {},
   "outputs": [
    {
     "name": "stdout",
     "output_type": "stream",
     "text": [
      "Enter a pet name\n",
      "haha\n",
      "Come and get you pet near the exit\n"
     ]
    }
   ],
   "source": [
    "#checking presence of your pet in a vetenary docs place\n",
    "mypets=['momo','haha','tata']\n",
    "print('Enter a pet name')\n",
    "name=input()\n",
    "if(name not in mypets):\n",
    "    print('that is not my pet')\n",
    "else:\n",
    "    print('Come and get you pet near the exit')"
   ]
  },
  {
   "cell_type": "code",
   "execution_count": null,
   "metadata": {},
   "outputs": [],
   "source": [
    "#open and append a file in you computer\n",
    "\n",
    "with open('hey.txt', 'r') as f:\n",
    "    print(f.read())\n",
    "\n",
    "with open('hey.txt', 'a') as f:\n",
    "     f.write('I am fine')\n",
    "     \n",
    "with open('hey.txt', 'a') as f:\n",
    "     f.write('\\nhotty hotty')     \n",
    "\n",
    "with open('hey.txt', 'r') as f:\n",
    "    print(f.read(3))\n",
    "    print(f.read(4))\n",
    "    print(f.read(8))\n",
    "    print(f.readline())\n",
    "    print(f.readline())\n",
    "\n",
    "with open('hey.txt', 'r') as f:\n",
    "    print(list(f))"
   ]
  },
  {
   "cell_type": "code",
   "execution_count": 47,
   "metadata": {},
   "outputs": [
    {
     "name": "stdout",
     "output_type": "stream",
     "text": [
      "Enter your stringumbrella\n",
      "{'a': 1, 'e': 1, 'i': 0, 'o': 0, 'u': 1}\n"
     ]
    }
   ],
   "source": [
    "#Find the count\n",
    "\n",
    "vowels='aeiou'\n",
    "my_str=input('Enter your string')\n",
    "count={}.fromkeys(vowels,0)  #keys from vowels and for each key setting default value=0\n",
    "for c in my_str:\n",
    "  if c in count:\n",
    "      count[c]+=1\n",
    "\n",
    "print(count)"
   ]
  },
  {
   "cell_type": "code",
   "execution_count": 44,
   "metadata": {},
   "outputs": [
    {
     "name": "stdout",
     "output_type": "stream",
     "text": [
      "[5, 8, 2]\n",
      "[7, 2, 3]\n"
     ]
    }
   ],
   "source": [
    "#matrix operations \n",
    "#transpose\n",
    "X=[[5,7],[8,2],[2,3]]\n",
    "result=[[0,0,0],[0,0,0]]\n",
    "#for i in range(len(X)):\n",
    " #for j in range(len(X[0])):\n",
    "# result[j][i]=X[i][j]\n",
    "#for r in result:\n",
    "  #  print(r)\n",
    "\n",
    "result=[[X[j][i] for j in range(len(X))] for i in range(len(X[0]))]\n",
    "for r in result:\n",
    "    print(r)"
   ]
  },
  {
   "cell_type": "code",
   "execution_count": 42,
   "metadata": {},
   "outputs": [
    {
     "name": "stdout",
     "output_type": "stream",
     "text": [
      "[4, 6, 8]\n",
      "[5, 8, 10]\n",
      "[8, 11]\n",
      "[13, 18]\n"
     ]
    }
   ],
   "source": [
    "#matrix operations \n",
    "#multiplication of matrices\n",
    "\n",
    "X=[[1,2,3],[1,3,4]]\n",
    "Y=[[3,4,5],[4,5,6]]\n",
    "result=[[X[i][j]+Y[i][j] for j in range(len(X[0]))] for i in range(len(X))]\n",
    "\n",
    "for r in result:\n",
    "        print(r)\n",
    "        \n",
    "X=[[1,2],[2,3]]\n",
    "Y=[[2,3],[3,4]]\n",
    "result=[[0,0],[0,0]] #making it\n",
    "for i in range(len(Y)):\n",
    "    for j in range(len(Y)):\n",
    "        for k in range(len(Y)):\n",
    "            result[i][j]+=X[i][k]*Y[k][j]  #filling it\n",
    "\n",
    "for p in result:\n",
    "  print(p)"
   ]
  },
  {
   "cell_type": "code",
   "execution_count": 41,
   "metadata": {},
   "outputs": [
    {
     "name": "stdout",
     "output_type": "stream",
     "text": [
      "Enter your sring to be sortedtu hi re tere bina m kese jiyuuu\n",
      "The sorted string is\n",
      "bina hi jiyuuu kese m re tere tu "
     ]
    }
   ],
   "source": [
    "#sorting words of a string\n",
    "mystr=input('Enter your sring to be sorted')\n",
    "words=mystr.split()\n",
    "words.sort()\n",
    "print('The sorted string is')\n",
    "for x in words:\n",
    "    print(x,end =\" \")"
   ]
  },
  {
   "cell_type": "code",
   "execution_count": 39,
   "metadata": {},
   "outputs": [
    {
     "name": "stdout",
     "output_type": "stream",
     "text": [
      "E= {0, 2, 3, 4, 5, 6}\n",
      "N= {1, 2, 7, 8, 9}\n",
      "union of E and N is {0, 1, 2, 3, 4, 5, 6, 7, 8, 9}\n",
      "intersection of E and N is {2}\n",
      "difference of E and N is  {0, 3, 4, 5, 6}\n",
      "symmetric difference of E anf N is {0, 1, 3, 4, 5, 6, 7, 8, 9}\n"
     ]
    }
   ],
   "source": [
    "#Sets\n",
    "E={0,2,3,4,5,6}\n",
    "N={1,2,7,8,9}\n",
    "print('E=',E)\n",
    "print('N=',N)\n",
    "print('union of E and N is',E|N)\n",
    "print('intersection of E and N is',E&N)\n",
    "print('difference of E and N is ',E-N)\n",
    "print('symmetric difference of E anf N is',E^N)"
   ]
  },
  {
   "cell_type": "code",
   "execution_count": 38,
   "metadata": {},
   "outputs": [
    {
     "name": "stdout",
     "output_type": "stream",
     "text": [
      "Enter the values of a,b,c\n",
      "8\n",
      "5\n",
      "2\n",
      "The solutions are (-20-24.979991993593593j) and (-20+24.979991993593593j)\n"
     ]
    }
   ],
   "source": [
    "#Finding roots\n",
    "import cmath\n",
    "print('Enter the values of a,b,c')\n",
    "a=int(input())\n",
    "b=int(input())\n",
    "c=int(input())\n",
    "d=b**2-4*a*c\n",
    "s1=(-b-cmath.sqrt(d))/2*a\n",
    "s2=(-b+cmath.sqrt(d))/2*a\n",
    "print('The solutions are {0} and {1}'.format(s1,s2))"
   ]
  },
  {
   "cell_type": "code",
   "execution_count": 35,
   "metadata": {},
   "outputs": [
    {
     "name": "stdout",
     "output_type": "stream",
     "text": [
      "Enter a string with punctuation markswa,na'kk\".am!\n",
      " wanakkam\n"
     ]
    }
   ],
   "source": [
    "#cleaning data\n",
    "punct='''!@#$%^&*():;\"<>'?/,.{}\\|'''\n",
    "mystr=input('Enter a string with punctuation marks')\n",
    "no_punct=' '\n",
    "for char in mystr:\n",
    "    if char not in punct:\n",
    "        no_punct=no_punct+char\n",
    "\n",
    "print(no_punct)"
   ]
  },
  {
   "cell_type": "code",
   "execution_count": 30,
   "metadata": {},
   "outputs": [
    {
     "name": "stdout",
     "output_type": "stream",
     "text": [
      "Enter the no.123463\n",
      "it is not a prime no.\n"
     ]
    }
   ],
   "source": [
    "# a number is prime or not\n",
    "\n",
    "n=int(input('Enter the no.'))\n",
    "if(n<=1):\n",
    " print('it is not a prime no')\n",
    "elif(n==2):\n",
    " print('it is a prime no')\n",
    "else:\n",
    " for i in range(2,n):\n",
    "  if(n%i)==0:\n",
    "   print('it is not a prime no.')\n",
    "   break\n",
    "\n",
    "  if(i==(n-1)):\n",
    "   print('it is a prime no.')"
   ]
  },
  {
   "cell_type": "code",
   "execution_count": 25,
   "metadata": {},
   "outputs": [
    {
     "name": "stdout",
     "output_type": "stream",
     "text": [
      "Enter name of cat no.1 Or Enter done\n",
      "henna\n",
      "Enter name of cat no.2 Or Enter done\n",
      "neena\n",
      "Enter name of cat no.3 Or Enter done\n",
      "fone\n",
      "Enter name of cat no.4 Or Enter done\n",
      "done\n",
      "The cat names are:\n",
      "  henna\n",
      "  neena\n",
      "  fone\n"
     ]
    }
   ],
   "source": [
    "#Making a list\n",
    "mycats=[]\n",
    "while True:\n",
    "    print('Enter name of cat no.'+str(len(mycats)+1)+' Or Enter done')\n",
    "    i=input()\n",
    "    if(i=='done'):\n",
    "        break\n",
    "    else:\n",
    "        mycats=mycats+[i] #concatenation of lists\n",
    "        \n",
    "print('The cat names are:')\n",
    "for x in mycats:\n",
    "    print(' ', x)"
   ]
  },
  {
   "cell_type": "code",
   "execution_count": 2,
   "metadata": {},
   "outputs": [
    {
     "name": "stdout",
     "output_type": "stream",
     "text": [
      "Enter the number of terms5\n",
      "fb series till5terms is:\n",
      "0,\n",
      "1,\n",
      "1,\n",
      "2,\n",
      "3,\n"
     ]
    }
   ],
   "source": [
    "#Fibonacci series\n",
    "nterms=int(input('Enter the number of terms'))\n",
    "n1=0\n",
    "n2=1\n",
    "c=0\n",
    "if(nterms<=0):\n",
    "    print('Enter a positive integer')\n",
    "elif(nterms==1):\n",
    "    print('fb series till'+str(nterms)+'terms is:')\n",
    "    print(n1)\n",
    "else:\n",
    "    print('fb series till'+str(nterms)+'terms is:')\n",
    "    while(c<nterms):\n",
    "     print(str(n1) +',')\n",
    "     n3=n1+n2\n",
    "     n1=n2\n",
    "     n2=n3\n",
    "     c+=1"
   ]
  },
  {
   "cell_type": "code",
   "execution_count": null,
   "metadata": {},
   "outputs": [],
   "source": []
  }
 ],
 "metadata": {
  "kernelspec": {
   "display_name": "Python 3",
   "language": "python",
   "name": "python3"
  },
  "language_info": {
   "codemirror_mode": {
    "name": "ipython",
    "version": 3
   },
   "file_extension": ".py",
   "mimetype": "text/x-python",
   "name": "python",
   "nbconvert_exporter": "python",
   "pygments_lexer": "ipython3",
   "version": "3.7.0"
  }
 },
 "nbformat": 4,
 "nbformat_minor": 2
}
